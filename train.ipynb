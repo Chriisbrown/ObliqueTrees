{
 "cells": [
  {
   "cell_type": "markdown",
   "metadata": {},
   "source": [
    "## Oblique Trees\n",
    "\n",
    "This small notebook shows how to use the oblique trees for the hls4ml jet tagging dataset and serves as an intro point to the model and dataset classes that are used"
   ]
  },
  {
   "cell_type": "markdown",
   "metadata": {},
   "source": [
    "Start by importing some basic things"
   ]
  },
  {
   "cell_type": "code",
   "execution_count": null,
   "metadata": {},
   "outputs": [],
   "source": [
    "from dataset import DataSet\n",
    "from model import YDFObliqueModel\n",
    "import matplotlib.pyplot as plt\n",
    "from sklearn.datasets import load_iris\n",
    "import plotly.graph_objs as go\n",
    "from plotly.offline import iplot  # For interactive plots\n",
    "\n",
    "import plotly.io as pio\n",
    "pio.renderers.default=\"colab\""
   ]
  },
  {
   "cell_type": "markdown",
   "metadata": {},
   "source": [
    "Generate a dataset using the DataSet class method \"fromOpenML\", more information is found in dataset.py\n",
    "This pulls the 'hls4ml_lhc_jets_hlf' dataset from hls4ml and creates the DataSet object\n",
    "\n",
    "The generate test train splits the dataset into X_train, X_test, y_train and y_test\n",
    "These are then saved to the 'hls4ml_lhc_jets_hlf/' path as .h5 files with a config file that records some features of the dataset"
   ]
  },
  {
   "cell_type": "code",
   "execution_count": null,
   "metadata": {},
   "outputs": [],
   "source": [
    "DataSet = DataSet.fromOpenML('hls4ml_lhc_jets_hlf')\n",
    "DataSet.generate_test_train()\n",
    "DataSet.save_test_train_h5('hls4ml_lhc_jets_hlf/')"
   ]
  },
  {
   "cell_type": "markdown",
   "metadata": {},
   "source": [
    "Create a YDFObliqueModel based on the ClassifierModel found in models.py, this is a ydf GBDT model with oblique splits turned on"
   ]
  },
  {
   "cell_type": "code",
   "execution_count": null,
   "metadata": {},
   "outputs": [],
   "source": [
    "model = YDFObliqueModel(\"ydfmodel\",\"YDFtest/\")\n"
   ]
  },
  {
   "cell_type": "markdown",
   "metadata": {},
   "source": [
    "Load the model's data from the hls4ml_lhc_jets_hlf/ directory\n",
    "\n",
    "Train the model and save it "
   ]
  },
  {
   "cell_type": "code",
   "execution_count": null,
   "metadata": {},
   "outputs": [],
   "source": [
    "model.load_data_fromTrainTest('hls4ml_lhc_jets_hlf/')\n",
    "model.train()\n",
    "model.save()\n"
   ]
  },
  {
   "cell_type": "markdown",
   "metadata": {},
   "source": [
    "Load the model (not strictly necessary as the model persists in this notebook but as an example)\n",
    "\n",
    "Run the model on the test dataset\n",
    "Evaluate the model creating a ROC plot"
   ]
  },
  {
   "cell_type": "code",
   "execution_count": null,
   "metadata": {},
   "outputs": [],
   "source": [
    "model.load(\"ydfmodel\",\"YDFtest/\")\n",
    "model.test()\n",
    "model.evaluate()"
   ]
  },
  {
   "cell_type": "markdown",
   "metadata": {},
   "source": [
    "Some additional YDF functions for analysing models"
   ]
  },
  {
   "cell_type": "code",
   "execution_count": null,
   "metadata": {},
   "outputs": [],
   "source": [
    "model.model.describe()"
   ]
  },
  {
   "cell_type": "code",
   "execution_count": null,
   "metadata": {},
   "outputs": [],
   "source": [
    "model.model.analyze(model.DataSet.test)"
   ]
  },
  {
   "cell_type": "code",
   "execution_count": null,
   "metadata": {},
   "outputs": [],
   "source": [
    "model.model.benchmark(model.DataSet.test)"
   ]
  },
  {
   "cell_type": "code",
   "execution_count": null,
   "metadata": {},
   "outputs": [],
   "source": [
    "model.model.analyze_prediction(model.DataSet.test.iloc[:1])"
   ]
  }
 ],
 "metadata": {
  "kernelspec": {
   "display_name": "Python 3",
   "language": "python",
   "name": "python3"
  },
  "language_info": {
   "codemirror_mode": {
    "name": "ipython",
    "version": 3
   },
   "file_extension": ".py",
   "mimetype": "text/x-python",
   "name": "python",
   "nbconvert_exporter": "python",
   "pygments_lexer": "ipython3",
   "version": "3.12.7"
  }
 },
 "nbformat": 4,
 "nbformat_minor": 2
}
